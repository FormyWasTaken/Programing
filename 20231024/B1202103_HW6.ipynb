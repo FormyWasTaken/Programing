{
  "nbformat": 4,
  "nbformat_minor": 0,
  "metadata": {
    "colab": {
      "provenance": []
    },
    "kernelspec": {
      "name": "python3",
      "display_name": "Python 3"
    },
    "language_info": {
      "name": "python"
    }
  },
  "cells": [
    {
      "cell_type": "code",
      "execution_count": 4,
      "metadata": {
        "colab": {
          "base_uri": "https://localhost:8080/"
        },
        "id": "mTaLP2wvZuhr",
        "outputId": "82b172bc-d586-4cdd-b923-cf1621a06036"
      },
      "outputs": [
        {
          "output_type": "stream",
          "name": "stdout",
          "text": [
            "輸入樹的高度:10\n",
            "          *\n",
            "         ***\n",
            "        *****\n",
            "       *******\n",
            "      *********\n",
            "     ***********\n",
            "    *************\n",
            "   ***************\n",
            "  *****************\n",
            " *******************\n",
            "         ***\n",
            "         ***\n",
            "         ***\n",
            "         ***\n",
            "         ***\n"
          ]
        }
      ],
      "source": [
        "a=int(input(\"輸入樹的高度:\"))\n",
        "\n",
        "b=1\n",
        "if a<7:\n",
        "  print(\"樹的高度至少大於7\")\n",
        "else:\n",
        "  for i in range(a):\n",
        "    print((' '*(a-i)+('*'*b)))\n",
        "    b+=2\n",
        "  for j in range(5):\n",
        "    print((' '*(a-1))+'***')"
      ]
    },
    {
      "cell_type": "code",
      "source": [
        "def bmi():\n",
        "  try:\n",
        "    h=float(input(\"身高(單位公尺):\"))\n",
        "    w=float(input(\"體重(單位公斤):\"))\n",
        "    bmi=w/h/h\n",
        "    if bmi<18.5:\n",
        "      a=\"過輕\"\n",
        "    elif 18.5<=bmi<24:\n",
        "      a=\"適中\"\n",
        "    elif 24<=bmi<27:\n",
        "      a=\"過重\"\n",
        "    else:\n",
        "      a=\"肥胖\"\n",
        "    return bmi,a\n",
        "  except Exception as a:\n",
        "    a=\"輸入內容錯誤\"\n",
        "    return a\n",
        "bmi()\n",
        "\n",
        ""
      ],
      "metadata": {
        "colab": {
          "base_uri": "https://localhost:8080/",
          "height": 71
        },
        "id": "05SKWhaKcnia",
        "outputId": "dcdf4141-b0d5-4692-a9f2-3553ecb758ed"
      },
      "execution_count": 7,
      "outputs": [
        {
          "name": "stdout",
          "output_type": "stream",
          "text": [
            "身高(單位公尺):187\n",
            "體重(單位公斤):py\n"
          ]
        },
        {
          "output_type": "execute_result",
          "data": {
            "text/plain": [
              "'輸入內容錯誤'"
            ],
            "application/vnd.google.colaboratory.intrinsic+json": {
              "type": "string"
            }
          },
          "metadata": {},
          "execution_count": 7
        }
      ]
    }
  ]
}