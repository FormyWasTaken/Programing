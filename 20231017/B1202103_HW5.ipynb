{
  "nbformat": 4,
  "nbformat_minor": 0,
  "metadata": {
    "colab": {
      "provenance": []
    },
    "kernelspec": {
      "name": "python3",
      "display_name": "Python 3"
    },
    "language_info": {
      "name": "python"
    }
  },
  "cells": [
    {
      "cell_type": "code",
      "source": [
        "import random\n",
        "answer=random.sample(range(1,10),4)\n",
        "print(answer) #若實際遊玩可跳過此行\n",
        "x=y=z=0\n",
        "num=0\n",
        "while x!=4:\n",
        "  num+=1\n",
        "  x=y=z=0\n",
        "  player=list(input(\"輸入四個數字（不會重複）\"))\n",
        "  if len(player)>4:\n",
        "    print(\"輸入數字過多\")\n",
        "    input(\"輸入四個數字（不會重複）\")\n",
        "  else:\n",
        "      for i in player:\n",
        "        if int(player[z])==answer[z]:\n",
        "          x+=1\n",
        "        else :\n",
        "          if int(i) in answer:\n",
        "            y+=1\n",
        "        z+=1\n",
        "  output=','.join(player).replace(',','')\n",
        "\n",
        "  print(f'{output}:{x}A{y}B')\n",
        "\n",
        "print (f'答對了！總共猜了{z}次')\n",
        "\n",
        "\n",
        "\n",
        "\n",
        "\n"
      ],
      "metadata": {
        "colab": {
          "base_uri": "https://localhost:8080/"
        },
        "id": "vg8AyIxwmWQS",
        "outputId": "f3194310-b30f-42e2-88dd-4d346c084083"
      },
      "execution_count": 2,
      "outputs": [
        {
          "output_type": "stream",
          "name": "stdout",
          "text": [
            "[7, 8, 4, 6]\n",
            "輸入四個數字（不會重複）7825\n",
            "7825:2A0B\n",
            "輸入四個數字（不會重複）7589\n",
            "7589:1A1B\n",
            "輸入四個數字（不會重複）6478\n",
            "6478:0A4B\n",
            "輸入四個數字（不會重複）7846\n",
            "7846:4A0B\n",
            "答對了！總共猜了4次\n"
          ]
        }
      ]
    },
    {
      "cell_type": "code",
      "execution_count": null,
      "metadata": {
        "colab": {
          "base_uri": "https://localhost:8080/"
        },
        "id": "yxZDdrB_fB4H",
        "outputId": "0f9d15f9-006a-4e5f-f4d8-a766659d3609"
      },
      "outputs": [
        {
          "output_type": "stream",
          "name": "stdout",
          "text": [
            "         *\n",
            "        ***\n",
            "       *****\n",
            "      *******\n",
            "     *********\n",
            "    ***********\n",
            "   *************\n",
            "  ***************\n",
            " *****************\n",
            "        ***\n",
            "        ***\n",
            "        ***\n"
          ]
        }
      ],
      "source": [
        "a=1\n",
        "b=9\n",
        "c=3\n",
        "for i in range(b):\n",
        "  print(' '*(b-i)+'*'*a)\n",
        "  a+=2\n",
        "\n",
        "for i in range(c):\n",
        "  print(' '*8+'*'*3)\n",
        "\n",
        "\n"
      ]
    }
  ]
}