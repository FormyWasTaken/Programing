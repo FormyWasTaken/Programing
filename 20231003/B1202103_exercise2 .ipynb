{
  "nbformat": 4,
  "nbformat_minor": 0,
  "metadata": {
    "colab": {
      "provenance": []
    },
    "kernelspec": {
      "name": "python3",
      "display_name": "Python 3"
    },
    "language_info": {
      "name": "python"
    }
  },
  "cells": [
    {
      "cell_type": "code",
      "execution_count": 32,
      "metadata": {
        "colab": {
          "base_uri": "https://localhost:8080/"
        },
        "id": "S7Mr-lhvPT3j",
        "outputId": "47fb194a-07a0-4fde-81bc-ca8b332ed870"
      },
      "outputs": [
        {
          "output_type": "stream",
          "name": "stdout",
          "text": [
            "A\n",
            "['K', 'H', 'U']\n"
          ]
        }
      ],
      "source": [
        "a= 'C,B,A'\n",
        "b=['F','G','H']\n",
        "c=a.split(',')\n",
        "d=c+b\n",
        "\n",
        "d[0]='K'\n",
        "print(d.pop(2))\n",
        "d[1:4]=[]\n",
        "d.append('U')\n",
        "print(d)\n",
        "\n",
        "\n"
      ]
    },
    {
      "cell_type": "code",
      "source": [
        "h=input('身高(cm):')\n",
        "w=input('體重(kg):')\n",
        "H=float(h)\n",
        "H/=100\n",
        "\n",
        "BMI=float(w)/(H**2)\n",
        "print('BMI:',BMI)\n",
        "if BMI<18.5:\n",
        "  print('體位:過輕')\n",
        "elif BMI>=18.5 and BMI<24:\n",
        "  print('體位:適中')\n",
        "elif BMI>=24 and BMI<27:\n",
        "  print('體位:過重')\n",
        "else:\n",
        "  print('體位:肥胖')"
      ],
      "metadata": {
        "colab": {
          "base_uri": "https://localhost:8080/"
        },
        "id": "03SMj1jrlr9P",
        "outputId": "fa225fcf-65e2-4904-c456-b0bc6a2680ad"
      },
      "execution_count": 43,
      "outputs": [
        {
          "output_type": "stream",
          "name": "stdout",
          "text": [
            "身高(cm):179.2\n",
            "體重(kg):74.1\n",
            "BMI: 23.075025908801024\n",
            "體位:適中\n"
          ]
        }
      ]
    }
  ]
}