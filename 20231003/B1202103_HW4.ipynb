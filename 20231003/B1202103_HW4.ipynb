{
  "nbformat": 4,
  "nbformat_minor": 0,
  "metadata": {
    "colab": {
      "provenance": []
    },
    "kernelspec": {
      "name": "python3",
      "display_name": "Python 3"
    },
    "language_info": {
      "name": "python"
    }
  },
  "cells": [
    {
      "cell_type": "code",
      "execution_count": 3,
      "metadata": {
        "colab": {
          "base_uri": "https://localhost:8080/"
        },
        "id": "aQ_j-AcaB2VF",
        "outputId": "d7043be1-06b5-4a12-f2c3-85b497424419"
      },
      "outputs": [
        {
          "output_type": "stream",
          "name": "stdout",
          "text": [
            "使用者輸入成績90 80 100 50 70\n",
            "80.0\n"
          ]
        }
      ],
      "source": [
        "a=input('使用者輸入成績')\n",
        "b=a.split()\n",
        "b[0]=float(b[0])\n",
        "b[1]=float(b[1])\n",
        "b[2]=float(b[2])\n",
        "b[3]=float(b[3])\n",
        "b[4]=float(b[4])\n",
        "b.sort()\n",
        "del b[0]\n",
        "del b[3]\n",
        "answer=(b[0]+b[1]+b[2])/3\n",
        "print(answer)"
      ]
    },
    {
      "cell_type": "code",
      "source": [
        "a=str(input('兩個數字，一個運算符號'))\n",
        "b=a.split()\n",
        "b[0]=float(b[0])\n",
        "b[2]=float(b[2])\n",
        "if b[1]==\"+\":\n",
        "  c=b[0]+b[2]\n",
        "elif b[1]==\"-\":\n",
        "  c=b[0]-b[2]\n",
        "elif b[1]==\"*\":\n",
        "  c=b[0]*b[2]\n",
        "elif b[1]==\"/\":\n",
        "  c=b[0]/b[2]\n",
        "print(c)\n"
      ],
      "metadata": {
        "colab": {
          "base_uri": "https://localhost:8080/"
        },
        "id": "nQfQak-OGIE9",
        "outputId": "ac84ec6a-3ea5-4e3a-8ce3-63d61c1feafd"
      },
      "execution_count": 6,
      "outputs": [
        {
          "output_type": "stream",
          "name": "stdout",
          "text": [
            "兩個數字，一個運算符號20 / 5\n",
            "4.0\n"
          ]
        }
      ]
    },
    {
      "cell_type": "code",
      "source": [
        "a=float(input('使用者輸入年分'))\n",
        "b=a%4\n",
        "c=a%100\n",
        "d=a%400\n",
        "if a<=1582:\n",
        "  if b==0:\n",
        "    print('閏年')\n",
        "else:\n",
        "  if b==0 and c!=0:\n",
        "    print('閏年')\n",
        "  elif d==0:\n",
        "    print('閏年')\n",
        "  else:\n",
        "    print('平年')\n"
      ],
      "metadata": {
        "colab": {
          "base_uri": "https://localhost:8080/"
        },
        "id": "8XI6nQR0HsXK",
        "outputId": "d7aa3024-1099-4541-d2a8-0c4af62a6032"
      },
      "execution_count": 10,
      "outputs": [
        {
          "output_type": "stream",
          "name": "stdout",
          "text": [
            "使用者輸入年分2100\n",
            "平年\n"
          ]
        }
      ]
    }
  ]
}